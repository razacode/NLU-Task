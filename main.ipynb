{
  "nbformat": 4,
  "nbformat_minor": 0,
  "metadata": {
    "colab": {
      "name": "main.ipynb",
      "provenance": [],
      "collapsed_sections": []
    },
    "kernelspec": {
      "name": "python3",
      "display_name": "Python 3"
    },
    "language_info": {
      "name": "python"
    }
  },
  "cells": [
    {
      "cell_type": "markdown",
      "metadata": {
        "id": "LsiZS1Yepffk"
      },
      "source": [
        "## Description:"
      ]
    },
    {
      "cell_type": "markdown",
      "metadata": {
        "id": "PH5mErWLpnWO"
      },
      "source": [
        "## Assignment: Working with Dependency Graphs (Parses)\n",
        "\n",
        "The objective of the assignment is to learn how to work with dependency graphs by defining functions.\n",
        "\n",
        "Read [spaCy documentation on dependency parser](https://spacy.io/api/dependencyparser) to learn provided methods.\n",
        "\n",
        "Define functions to:\n",
        "- extract a path of dependency relations from the ROOT to a token\n",
        "- extract subtree of a dependents given a token\n",
        "- check if a given list of tokens (segment of a sentence) forms a subtree\n",
        "- identify head of a span, given its tokens\n",
        "- extract sentence subject, direct object and indirect object spans"
      ]
    },
    {
      "cell_type": "code",
      "metadata": {
        "id": "AXDWvpbypVWz"
      },
      "source": [
        "#first import spacy\n",
        "import spacy \n",
        "\n",
        "#load the language\n",
        "nlp = spacy.load(\"en_core_web_sm\")"
      ],
      "execution_count": 26,
      "outputs": []
    },
    {
      "cell_type": "code",
      "metadata": {
        "id": "k8ZzIMuqpegb"
      },
      "source": [
        "#decalare sentence \n",
        "spacy_sentence = 'Emirates airline cancelled our ﬂight this morning which was already late'\n",
        "spacy_doc = nlp(spacy_sentence)"
      ],
      "execution_count": 27,
      "outputs": []
    },
    {
      "cell_type": "markdown",
      "metadata": {
        "id": "7cDHFVaQqwve"
      },
      "source": [
        "# Noun chunks"
      ]
    },
    {
      "cell_type": "code",
      "metadata": {
        "colab": {
          "base_uri": "https://localhost:8080/"
        },
        "id": "E9B94b-_sCo-",
        "outputId": "223d0ef2-f0a3-4bfb-ac06-cbe3e4601d2a"
      },
      "source": [
        "#printing Noun chunks for a given sentence \n",
        "for token in spacy_doc:\n",
        "    print(\"{}\\t\\t{}\\t\\t{}\\t\\t{}\\t\\t{}\".format(token.text, token.dep_, token.head.text, token.head.pos_,\n",
        "            [child for child in token.children]))"
      ],
      "execution_count": 28,
      "outputs": [
        {
          "output_type": "stream",
          "text": [
            "Emirates\t\tcompound\t\tairline\t\tNOUN\t\t[]\n",
            "airline\t\tnsubj\t\tcancelled\t\tVERB\t\t[Emirates]\n",
            "cancelled\t\tROOT\t\tcancelled\t\tVERB\t\t[airline, ﬂight, morning, was]\n",
            "our\t\tposs\t\tﬂight\t\tNOUN\t\t[]\n",
            "ﬂight\t\tdobj\t\tcancelled\t\tVERB\t\t[our]\n",
            "this\t\tdet\t\tmorning\t\tNOUN\t\t[]\n",
            "morning\t\tnpadvmod\t\tcancelled\t\tVERB\t\t[this]\n",
            "which\t\tnsubj\t\twas\t\tAUX\t\t[]\n",
            "was\t\tadvcl\t\tcancelled\t\tVERB\t\t[which, already, late]\n",
            "already\t\tadvmod\t\twas\t\tAUX\t\t[]\n",
            "late\t\tacomp\t\twas\t\tAUX\t\t[]\n"
          ],
          "name": "stdout"
        }
      ]
    },
    {
      "cell_type": "markdown",
      "metadata": {
        "id": "8nnnVZOyrb0s"
      },
      "source": [
        "## First Function for Extract Dependency Path Root"
      ]
    },
    {
      "cell_type": "code",
      "metadata": {
        "id": "KKGcHJ_srRhK"
      },
      "source": [
        "def extract_Token_Path_Root(token, doc):\n",
        "    path = []\n",
        "    current = token\n",
        "\n",
        "    while not current.dep_ == 'ROOT':\n",
        "        \n",
        "        path.insert(0, current.dep_)\n",
        "        current = current.head\n",
        "    \n",
        "    path.insert(0, 'ROOT')\n",
        "    return path\n",
        "\n",
        "def sentPathRoot(sent):\n",
        "    doc = nlp(sent)\n",
        "    paths = {token.text: extract_Token_Path_Root(token, doc) for token in doc}\n",
        "    return paths"
      ],
      "execution_count": 29,
      "outputs": []
    },
    {
      "cell_type": "code",
      "metadata": {
        "colab": {
          "base_uri": "https://localhost:8080/"
        },
        "id": "A_ZKOngYsT9-",
        "outputId": "60adb04a-f248-4703-efeb-10ccd9ab7303"
      },
      "source": [
        "sentPathRoot(spacy_sentence)"
      ],
      "execution_count": 30,
      "outputs": [
        {
          "output_type": "execute_result",
          "data": {
            "text/plain": [
              "{'Emirates': ['ROOT', 'nsubj', 'compound'],\n",
              " 'airline': ['ROOT', 'nsubj'],\n",
              " 'already': ['ROOT', 'advcl', 'advmod'],\n",
              " 'cancelled': ['ROOT'],\n",
              " 'late': ['ROOT', 'advcl', 'acomp'],\n",
              " 'morning': ['ROOT', 'npadvmod'],\n",
              " 'our': ['ROOT', 'dobj', 'poss'],\n",
              " 'this': ['ROOT', 'npadvmod', 'det'],\n",
              " 'was': ['ROOT', 'advcl'],\n",
              " 'which': ['ROOT', 'advcl', 'nsubj'],\n",
              " 'ﬂight': ['ROOT', 'dobj']}"
            ]
          },
          "metadata": {
            "tags": []
          },
          "execution_count": 30
        }
      ]
    },
    {
      "cell_type": "markdown",
      "metadata": {
        "id": "Tls9FY0ZtyOd"
      },
      "source": [
        "## Second Function for Extract Subtree"
      ]
    },
    {
      "cell_type": "code",
      "metadata": {
        "id": "yu5b9xnduEjy"
      },
      "source": [
        "def extracting_Subtree(sent):\n",
        "\n",
        "    return {token.text: list(token.subtree) for token in nlp(sent)}"
      ],
      "execution_count": 31,
      "outputs": []
    },
    {
      "cell_type": "code",
      "metadata": {
        "colab": {
          "base_uri": "https://localhost:8080/"
        },
        "id": "DnL6P5XIuTJy",
        "outputId": "59c3bcd1-44aa-4eed-b5da-89bcbf0f400a"
      },
      "source": [
        "#calling method\n",
        "extracting_Subtree(spacy_sentence)"
      ],
      "execution_count": 32,
      "outputs": [
        {
          "output_type": "execute_result",
          "data": {
            "text/plain": [
              "{'Emirates': [Emirates],\n",
              " 'airline': [Emirates, airline],\n",
              " 'already': [already],\n",
              " 'cancelled': [Emirates,\n",
              "  airline,\n",
              "  cancelled,\n",
              "  our,\n",
              "  ﬂight,\n",
              "  this,\n",
              "  morning,\n",
              "  which,\n",
              "  was,\n",
              "  already,\n",
              "  late],\n",
              " 'late': [late],\n",
              " 'morning': [this, morning],\n",
              " 'our': [our],\n",
              " 'this': [this],\n",
              " 'was': [which, was, already, late],\n",
              " 'which': [which],\n",
              " 'ﬂight': [our, ﬂight]}"
            ]
          },
          "metadata": {
            "tags": []
          },
          "execution_count": 32
        }
      ]
    },
    {
      "cell_type": "markdown",
      "metadata": {
        "id": "JERCUe2ZuadK"
      },
      "source": [
        "## Third Function Checking if a given list of tokens (segment of a sentence) forms a subtree"
      ]
    },
    {
      "cell_type": "code",
      "metadata": {
        "id": "w9FfZdGkuyED"
      },
      "source": [
        "def check_Subtree(sent, words):\n",
        "    doc = nlp(sent)\n",
        "    \n",
        "    tokens = sorted([tk for tk in doc for w in words if tk.text == w])\n",
        "    \n",
        "    for tk in tokens:\n",
        "        if sorted(tk.subtree) == tokens:\n",
        "            return True\n",
        "    return False"
      ],
      "execution_count": 33,
      "outputs": []
    },
    {
      "cell_type": "code",
      "metadata": {
        "colab": {
          "base_uri": "https://localhost:8080/"
        },
        "id": "WkM2mMlOu6R1",
        "outputId": "37329e3b-9947-46a3-f05e-69fbacb76bf8"
      },
      "source": [
        "print(\"The value for given words are: \", check_Subtree(spacy_sentence, ['Emirates', 'already','late']))\n",
        "print(\"The value for given words are: \", check_Subtree(spacy_sentence,['which', 'was', 'already', 'late']))"
      ],
      "execution_count": 34,
      "outputs": [
        {
          "output_type": "stream",
          "text": [
            "The value for given words are:  False\n",
            "The value for given words are:  True\n"
          ],
          "name": "stdout"
        }
      ]
    },
    {
      "cell_type": "markdown",
      "metadata": {
        "id": "RSwSHKrlvNsG"
      },
      "source": [
        "## Fourth Function Identifying the head of a span, given its tokens"
      ]
    },
    {
      "cell_type": "code",
      "metadata": {
        "id": "kVtCESq5vRww"
      },
      "source": [
        "def head_Of_List(words):\n",
        "    # join the words in a list and computer the head of the span composed by the full parsed joined list of words\n",
        "    # convert words to a parsed span (a doc's sentence) and get its root\n",
        "    # used next() to get just the first sentence as the expected input shouldn't\n",
        "    joinList = ' '.join(words)\n",
        "    doc = nlp(joinList)\n",
        "    rootword = doc.sents\n",
        "    head = next(rootword).root\n",
        "    return head"
      ],
      "execution_count": 35,
      "outputs": []
    },
    {
      "cell_type": "code",
      "metadata": {
        "colab": {
          "base_uri": "https://localhost:8080/"
        },
        "id": "MJKwuozAvVVa",
        "outputId": "4b5184c1-8841-4ce6-af97-a123bf445507"
      },
      "source": [
        "print(spacy_sentence)\n",
        "head_Of_List(spacy_sentence.split())"
      ],
      "execution_count": 36,
      "outputs": [
        {
          "output_type": "stream",
          "text": [
            "Emirates airline cancelled our ﬂight this morning which was already late\n"
          ],
          "name": "stdout"
        },
        {
          "output_type": "execute_result",
          "data": {
            "text/plain": [
              "cancelled"
            ]
          },
          "metadata": {
            "tags": []
          },
          "execution_count": 36
        }
      ]
    },
    {
      "cell_type": "markdown",
      "metadata": {
        "id": "3LKnqGwgvbj9"
      },
      "source": [
        "## Fifth Function Extracting  subject, direct object and indirect object spans from sentence\n"
      ]
    },
    {
      "cell_type": "markdown",
      "metadata": {
        "id": "avjzUoYTv_U1"
      },
      "source": [
        "![Screenshot 2021-04-19 17.30.36.png](data:image/png;base64,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)"
      ]
    },
    {
      "cell_type": "code",
      "metadata": {
        "id": "pQ1RLEBRvkD8"
      },
      "source": [
        "def extract_Direct_Indirect_Span(sent):\n",
        "    doc = nlp(sent)\n",
        "    deps = ['nsubj', 'dobj', 'iobj']\n",
        "   \n",
        "    # create dict of lists for each dependency\n",
        "    spans = {k: [] for k in deps}\n",
        "\n",
        "    # iterate over the dependency and all the tokens\n",
        "    for dep in deps:\n",
        "        for token in doc:\n",
        "            if token.dep_ == dep:\n",
        "                # if a dependency is found, add its token to the corresponding list\n",
        "                # the token is added as a span object by slicing the doc\n",
        "                spans[dep].append(doc[token.i:token.i+1])\n",
        "        \n",
        "    return spans"
      ],
      "execution_count": 37,
      "outputs": []
    },
    {
      "cell_type": "code",
      "metadata": {
        "colab": {
          "base_uri": "https://localhost:8080/"
        },
        "id": "hmODszsZvwJj",
        "outputId": "fde52751-eb8d-44b3-88b4-3167f683fbe7"
      },
      "source": [
        "extract_Direct_Indirect_Span(spacy_sentence)"
      ],
      "execution_count": 38,
      "outputs": [
        {
          "output_type": "execute_result",
          "data": {
            "text/plain": [
              "{'dobj': [ﬂight], 'iobj': [], 'nsubj': [airline, which]}"
            ]
          },
          "metadata": {
            "tags": []
          },
          "execution_count": 38
        }
      ]
    }
  ]
}